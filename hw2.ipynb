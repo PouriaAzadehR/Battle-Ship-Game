{
  "nbformat": 4,
  "nbformat_minor": 0,
  "metadata": {
    "colab": {
      "provenance": [],
      "collapsed_sections": [
        "D3i49C5Omkx9",
        "ci6FyCS8wivi",
        "bq3IwtJMTGQb",
        "xu6U6h6Ieecw"
      ],
      "authorship_tag": "ABX9TyMzda+eHA4483/m1s3GnF6j",
      "include_colab_link": true
    },
    "kernelspec": {
      "name": "python3",
      "display_name": "Python 3"
    },
    "language_info": {
      "name": "python"
    }
  },
  "cells": [
    {
      "cell_type": "markdown",
      "metadata": {
        "id": "view-in-github",
        "colab_type": "text"
      },
      "source": [
        "<a href=\"https://colab.research.google.com/github/PouriaAzadehR/Game/blob/main/hw2.ipynb\" target=\"_parent\"><img src=\"https://colab.research.google.com/assets/colab-badge.svg\" alt=\"Open In Colab\"/></a>"
      ]
    },
    {
      "cell_type": "markdown",
      "source": [
        "## Question 2"
      ],
      "metadata": {
        "id": "D3i49C5Omkx9"
      }
    },
    {
      "cell_type": "code",
      "source": [
        "import numpy as np\n",
        "import matplotlib.pyplot as plt"
      ],
      "metadata": {
        "id": "A3baiVeEmtQT"
      },
      "execution_count": null,
      "outputs": []
    },
    {
      "cell_type": "code",
      "source": [
        "# b\n",
        "pi = np.pi\n",
        "t = np.arange(0 , 3/2+0.01 ,0.01)\n",
        "x = np.absolute(np.sin(((2*pi) / 3) * t )) + np.cos(((4 * pi)/3) * t )\n",
        "plt.plot(t , x)\n",
        "plt.show()"
      ],
      "metadata": {
        "id": "0_C1l0AQm0sL"
      },
      "execution_count": null,
      "outputs": []
    },
    {
      "cell_type": "code",
      "source": [
        "# c\n",
        "j = complex(0,1)\n",
        "pi = np.pi\n",
        "w1 = pi / 3\n",
        "w2 = (4 * pi) /3\n",
        "n = np.arange(0 , 7)\n",
        "x = np.exp(j * w1 * n)+ np.exp(j * w2 * n)\n",
        "figure, axis = plt.subplots(2, 1)\n",
        "axis[0].stem(n , np.real(x), use_line_collection=True)\n",
        "axis[0].set_title(\" real part\")\n",
        "axis[1].stem(n , np.imag(x) , use_line_collection=True)\n",
        "axis[1].set_title(\" imag part\")\n",
        "plt.show()"
      ],
      "metadata": {
        "id": "YfNuNw7Yplp7"
      },
      "execution_count": null,
      "outputs": []
    },
    {
      "cell_type": "markdown",
      "source": [
        "## Question 3"
      ],
      "metadata": {
        "id": "ci6FyCS8wivi"
      }
    },
    {
      "cell_type": "code",
      "source": [
        "import numpy as np\n",
        "import matplotlib.pyplot as plt"
      ],
      "metadata": {
        "id": "IsflaJnfwqJa"
      },
      "execution_count": null,
      "outputs": []
    },
    {
      "cell_type": "code",
      "source": [
        "def decomposer_odd_even(x):\n",
        "  x_odd = (x - np.flip(x)) / 2\n",
        "  x_even = (x + np.flip(x)) / 2\n",
        "  return x_odd,x_even"
      ],
      "metadata": {
        "id": "OwEPKClhws9q"
      },
      "execution_count": null,
      "outputs": []
    },
    {
      "cell_type": "code",
      "source": [
        "print(\"notice: you must entet equal numbers of input for both singal and its amplitude\")\n",
        "x  = np.array([input(\"please enter your signal : \").strip().split() for _ in range(1)], int)\n",
        "n  = np.array([input(\"please enter aplitude of your signal : \").strip().split() for _ in range(1)], int)\n",
        "x= x.flatten()\n",
        "n = n.flatten()\n",
        "x_odd , x_even = decomposer_odd_even(x)\n",
        "figure, axis = plt.subplots(3, 1)\n",
        "axis[0].stem(n, x, use_line_collection = True)\n",
        "axis[0].set_title(\"x\")\n",
        "axis[1].stem(n, x_odd, use_line_collection = True)\n",
        "axis[1].set_title(\"x_odd\")\n",
        "axis[2].stem(n, x_even, use_line_collection = True)\n",
        "axis[2].set_title(\"x_even\")\n",
        "plt.show()"
      ],
      "metadata": {
        "id": "dG1j_iE2xHXT"
      },
      "execution_count": null,
      "outputs": []
    },
    {
      "cell_type": "markdown",
      "source": [
        "## Question 4"
      ],
      "metadata": {
        "id": "bq3IwtJMTGQb"
      }
    },
    {
      "cell_type": "code",
      "source": [
        "import numpy as np\n",
        "import matplotlib.pyplot as plt"
      ],
      "metadata": {
        "id": "G9pjSm0tU99E"
      },
      "execution_count": null,
      "outputs": []
    },
    {
      "cell_type": "code",
      "execution_count": null,
      "metadata": {
        "id": "144TRoR2Sd_6"
      },
      "outputs": [],
      "source": [
        "pi = np.pi\n",
        "w = pi / 3\n",
        "j = complex(0,1)\n",
        "t = np.arange(-2*pi , 2*pi+0.1 , 0.1 )\n",
        "x = np.cos(w*t + pi/4)\n",
        "plt.plot(t,x)\n",
        "plt.show()"
      ]
    },
    {
      "cell_type": "code",
      "source": [
        "c = 2\n",
        "r = 1\n",
        "t = np.arange(-4 , 5 , 0.1)\n",
        "x = c * np.exp(t * r)\n",
        "plt.plot(t , x)\n",
        "plt.show()"
      ],
      "metadata": {
        "id": "9loaoer-WxRj"
      },
      "execution_count": null,
      "outputs": []
    },
    {
      "cell_type": "markdown",
      "source": [
        "## Question 7"
      ],
      "metadata": {
        "id": "xu6U6h6Ieecw"
      }
    },
    {
      "cell_type": "code",
      "source": [
        "import numpy as np\n",
        "import matplotlib.pyplot as plt"
      ],
      "metadata": {
        "id": "KJDpvO9bel77"
      },
      "execution_count": null,
      "outputs": []
    },
    {
      "cell_type": "code",
      "source": [
        "def limiter_system(x):\n",
        "  x_limited = np.copy(x)\n",
        "  x_limited[x_limited > 5] = 5\n",
        "  x_limited[x_limited<0]=0\n",
        "  return x_limited"
      ],
      "metadata": {
        "id": "Gdq7NfYng6RY"
      },
      "execution_count": null,
      "outputs": []
    },
    {
      "cell_type": "code",
      "source": [
        "pi = np.pi\n",
        "t = np.arange(-5 , 6  , 0.1)\n",
        "x = 3 * np.absolute(np.cos(7*t)) + 3 * np.sin(pi * t)\n",
        "x_limited = limiter_system(x)\n",
        "plt.plot(t , x , label = \"normal signal\")\n",
        "plt.plot(t , x_limited , label = \"limited signal\")\n",
        "plt.legend()\n",
        "plt.show()"
      ],
      "metadata": {
        "id": "_CwSCt7YerLT"
      },
      "execution_count": null,
      "outputs": []
    }
  ]
}